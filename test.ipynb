{
 "cells": [
  {
   "cell_type": "code",
   "execution_count": 1,
   "metadata": {},
   "outputs": [],
   "source": [
    "import numpy as np\n",
    "import pandas as pd\n",
    "from randomuser import RandomUser"
   ]
  },
  {
   "cell_type": "code",
   "execution_count": 2,
   "metadata": {},
   "outputs": [],
   "source": [
    "def get_users(cant):\n",
    "    users = []\n",
    "\n",
    "    for user in RandomUser.generate_users(cant):\n",
    "        users.append({'Name: ': user.get_full_name(), \"Gender: \": user.get_gender(), \"City: \": user.get_city(), \"State\":user.get_state(),\"Email\":user.get_email()})\n",
    "\n",
    "    return pd.DataFrame(users)"
   ]
  },
  {
   "cell_type": "code",
   "execution_count": null,
   "metadata": {},
   "outputs": [],
   "source": [
    "pref = \"var_\"\n",
    "for i in range(1, 11):\n",
    "    var_name = pref + str(i)\n",
    "    globals()[var_name] = get_users(1000)\n",
    "\n",
    "#users = get_users(1000000)"
   ]
  },
  {
   "cell_type": "code",
   "execution_count": 27,
   "metadata": {},
   "outputs": [],
   "source": [
    "users = pd.concat([users, var_1, var_2, var_3, var_4, var_5, var_6, var_7, var_8, var_9, var_10], axis=0, ignore_index=True)"
   ]
  },
  {
   "cell_type": "code",
   "execution_count": null,
   "metadata": {},
   "outputs": [],
   "source": [
    "users"
   ]
  }
 ],
 "metadata": {
  "kernelspec": {
   "display_name": "base",
   "language": "python",
   "name": "python3"
  },
  "language_info": {
   "codemirror_mode": {
    "name": "ipython",
    "version": 3
   },
   "file_extension": ".py",
   "mimetype": "text/x-python",
   "name": "python",
   "nbconvert_exporter": "python",
   "pygments_lexer": "ipython3",
   "version": "3.11.5"
  }
 },
 "nbformat": 4,
 "nbformat_minor": 2
}
