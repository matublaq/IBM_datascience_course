{
 "cells": [
  {
   "cell_type": "code",
   "execution_count": 3,
   "metadata": {},
   "outputs": [],
   "source": [
    "import numpy as np\n",
    "import pandas as pd\n",
    "from randomuser import RandomUser"
   ]
  },
  {
   "cell_type": "code",
   "execution_count": 4,
   "metadata": {},
   "outputs": [],
   "source": [
    "r = RandomUser()"
   ]
  },
  {
   "cell_type": "code",
   "execution_count": 8,
   "metadata": {},
   "outputs": [
    {
     "data": {
      "text/plain": [
       "[<randomuser.RandomUser at 0x2d703c07190>,\n",
       " <randomuser.RandomUser at 0x2d703c073d0>,\n",
       " <randomuser.RandomUser at 0x2d703c07210>,\n",
       " <randomuser.RandomUser at 0x2d703c07590>,\n",
       " <randomuser.RandomUser at 0x2d703c07410>,\n",
       " <randomuser.RandomUser at 0x2d703c07310>,\n",
       " <randomuser.RandomUser at 0x2d703c07490>,\n",
       " <randomuser.RandomUser at 0x2d703c07550>,\n",
       " <randomuser.RandomUser at 0x2d703c04e90>,\n",
       " <randomuser.RandomUser at 0x2d703c07350>]"
      ]
     },
     "execution_count": 8,
     "metadata": {},
     "output_type": "execute_result"
    }
   ],
   "source": [
    "some_list = r.generate_users(10)\n",
    "some_list"
   ]
  },
  {
   "cell_type": "code",
   "execution_count": 12,
   "metadata": {},
   "outputs": [
    {
     "data": {
      "text/plain": [
       "'Matias Marttila'"
      ]
     },
     "execution_count": 12,
     "metadata": {},
     "output_type": "execute_result"
    }
   ],
   "source": [
    "name = r.get_full_name()\n",
    "name"
   ]
  },
  {
   "cell_type": "code",
   "execution_count": 14,
   "metadata": {},
   "outputs": [
    {
     "name": "stdout",
     "output_type": "stream",
     "text": [
      "Ahmet Yeşilkaya   ahmet.yesilkaya@example.com   https://randomuser.me/api/portraits/men/8.jpg\n",
      "Adosindo Barros   adosindo.barros@example.com   https://randomuser.me/api/portraits/men/68.jpg\n",
      "هلیا مرادی   hly.mrdy@example.com   https://randomuser.me/api/portraits/women/29.jpg\n",
      "Lois Silva   lois.silva@example.com   https://randomuser.me/api/portraits/women/7.jpg\n",
      "Nurdan Yorulmaz   nurdan.yorulmaz@example.com   https://randomuser.me/api/portraits/women/59.jpg\n",
      "Marcus Brown   marcus.brown@example.com   https://randomuser.me/api/portraits/men/66.jpg\n",
      "Ola Nordrum   ola.nordrum@example.com   https://randomuser.me/api/portraits/men/55.jpg\n",
      "Jorge Sanz   jorge.sanz@example.com   https://randomuser.me/api/portraits/men/31.jpg\n",
      "Evie Turner   evie.turner@example.com   https://randomuser.me/api/portraits/women/64.jpg\n",
      "Jenny Hughes   jenny.hughes@example.com   https://randomuser.me/api/portraits/women/78.jpg\n"
     ]
    }
   ],
   "source": [
    "for user in some_list:\n",
    "    print(user.get_full_name(), \" \", user.get_email(), \" \", user.get_picture())"
   ]
  },
  {
   "cell_type": "code",
   "execution_count": null,
   "metadata": {},
   "outputs": [],
   "source": []
  }
 ],
 "metadata": {
  "kernelspec": {
   "display_name": "base",
   "language": "python",
   "name": "python3"
  },
  "language_info": {
   "codemirror_mode": {
    "name": "ipython",
    "version": 3
   },
   "file_extension": ".py",
   "mimetype": "text/x-python",
   "name": "python",
   "nbconvert_exporter": "python",
   "pygments_lexer": "ipython3",
   "version": "3.11.5"
  }
 },
 "nbformat": 4,
 "nbformat_minor": 2
}
