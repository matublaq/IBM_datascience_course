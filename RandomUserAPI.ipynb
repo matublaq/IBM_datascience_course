{
 "cells": [
  {
   "cell_type": "code",
   "execution_count": 11,
   "metadata": {},
   "outputs": [],
   "source": [
    "import numpy as np\n",
    "import pandas as pd\n",
    "from randomuser import RandomUser"
   ]
  },
  {
   "cell_type": "code",
   "execution_count": 12,
   "metadata": {},
   "outputs": [],
   "source": [
    "r = RandomUser()"
   ]
  },
  {
   "cell_type": "code",
   "execution_count": 13,
   "metadata": {},
   "outputs": [
    {
     "data": {
      "text/plain": [
       "[<randomuser.RandomUser at 0x1f88b0f9690>,\n",
       " <randomuser.RandomUser at 0x1f88b0f9990>,\n",
       " <randomuser.RandomUser at 0x1f88b0f9110>,\n",
       " <randomuser.RandomUser at 0x1f88b0f9a90>,\n",
       " <randomuser.RandomUser at 0x1f88b0f93d0>,\n",
       " <randomuser.RandomUser at 0x1f88b0fb350>,\n",
       " <randomuser.RandomUser at 0x1f88b0f9c90>,\n",
       " <randomuser.RandomUser at 0x1f88b0f95d0>,\n",
       " <randomuser.RandomUser at 0x1f88b0f9d10>,\n",
       " <randomuser.RandomUser at 0x1f88b0f9fd0>]"
      ]
     },
     "execution_count": 13,
     "metadata": {},
     "output_type": "execute_result"
    }
   ],
   "source": [
    "some_list = r.generate_users(10)\n",
    "some_list"
   ]
  },
  {
   "cell_type": "code",
   "execution_count": 14,
   "metadata": {},
   "outputs": [
    {
     "data": {
      "text/plain": [
       "'Vincent Marshall'"
      ]
     },
     "execution_count": 14,
     "metadata": {},
     "output_type": "execute_result"
    }
   ],
   "source": [
    "name = r.get_full_name()\n",
    "name"
   ]
  },
  {
   "cell_type": "code",
   "execution_count": 15,
   "metadata": {},
   "outputs": [
    {
     "name": "stdout",
     "output_type": "stream",
     "text": [
      "Archer Wright   archer.wright@example.com   https://randomuser.me/api/portraits/men/11.jpg\n",
      "Noemie Marie   noemie.marie@example.com   https://randomuser.me/api/portraits/women/86.jpg\n",
      "Paulina Guerin   paulina.guerin@example.com   https://randomuser.me/api/portraits/women/62.jpg\n",
      "Brad Gregory   brad.gregory@example.com   https://randomuser.me/api/portraits/men/39.jpg\n",
      "Emeline Philippe   emeline.philippe@example.com   https://randomuser.me/api/portraits/women/59.jpg\n",
      "Steve Holland   steve.holland@example.com   https://randomuser.me/api/portraits/men/29.jpg\n",
      "Eemil Annala   eemil.annala@example.com   https://randomuser.me/api/portraits/men/29.jpg\n",
      "Sedef Öymen   sedef.oymen@example.com   https://randomuser.me/api/portraits/women/24.jpg\n",
      "Priscilla Rogers   priscilla.rogers@example.com   https://randomuser.me/api/portraits/women/25.jpg\n",
      "Zoe Robinson   zoe.robinson@example.com   https://randomuser.me/api/portraits/women/6.jpg\n"
     ]
    }
   ],
   "source": [
    "for user in some_list:\n",
    "    print(user.get_full_name(), \" \", user.get_email(), \" \", user.get_picture())"
   ]
  },
  {
   "cell_type": "markdown",
   "metadata": {},
   "source": [
    "# User generator"
   ]
  },
  {
   "cell_type": "code",
   "execution_count": 18,
   "metadata": {},
   "outputs": [],
   "source": [
    "def get_users(cant):\n",
    "    users = []\n",
    "\n",
    "    for user in RandomUser.generate_users(cant):\n",
    "        users.append({'Name: ': user.get_full_name(), \"Gender: \": user.get_gender(), \"City: \": user.get_city(), \"State\":user.get_state(),\"Email\":user.get_email(), \"DOB\":user.get_dob(),\"Picture\":user.get_picture()})\n",
    "\n",
    "    return pd.DataFrame(users)"
   ]
  },
  {
   "cell_type": "code",
   "execution_count": 19,
   "metadata": {},
   "outputs": [
    {
     "data": {
      "text/html": [
       "<div>\n",
       "<style scoped>\n",
       "    .dataframe tbody tr th:only-of-type {\n",
       "        vertical-align: middle;\n",
       "    }\n",
       "\n",
       "    .dataframe tbody tr th {\n",
       "        vertical-align: top;\n",
       "    }\n",
       "\n",
       "    .dataframe thead th {\n",
       "        text-align: right;\n",
       "    }\n",
       "</style>\n",
       "<table border=\"1\" class=\"dataframe\">\n",
       "  <thead>\n",
       "    <tr style=\"text-align: right;\">\n",
       "      <th></th>\n",
       "      <th>Name:</th>\n",
       "      <th>Gender:</th>\n",
       "      <th>City:</th>\n",
       "      <th>State</th>\n",
       "      <th>Email</th>\n",
       "      <th>DOB</th>\n",
       "      <th>Picture</th>\n",
       "    </tr>\n",
       "  </thead>\n",
       "  <tbody>\n",
       "    <tr>\n",
       "      <th>0</th>\n",
       "      <td>Magret Röttger</td>\n",
       "      <td>female</td>\n",
       "      <td>Erbach</td>\n",
       "      <td>Hessen</td>\n",
       "      <td>magret.rottger@example.com</td>\n",
       "      <td>1948-02-02T05:14:29.214Z</td>\n",
       "      <td>https://randomuser.me/api/portraits/women/84.jpg</td>\n",
       "    </tr>\n",
       "    <tr>\n",
       "      <th>1</th>\n",
       "      <td>Melodie Ginnish</td>\n",
       "      <td>female</td>\n",
       "      <td>Selkirk</td>\n",
       "      <td>Prince Edward Island</td>\n",
       "      <td>melodie.ginnish@example.com</td>\n",
       "      <td>1991-08-13T09:31:50.670Z</td>\n",
       "      <td>https://randomuser.me/api/portraits/women/14.jpg</td>\n",
       "    </tr>\n",
       "    <tr>\n",
       "      <th>2</th>\n",
       "      <td>Jessi Lievaart</td>\n",
       "      <td>female</td>\n",
       "      <td>Gendt</td>\n",
       "      <td>Limburg</td>\n",
       "      <td>jessi.lievaart@example.com</td>\n",
       "      <td>1980-11-03T06:16:03.565Z</td>\n",
       "      <td>https://randomuser.me/api/portraits/women/55.jpg</td>\n",
       "    </tr>\n",
       "  </tbody>\n",
       "</table>\n",
       "</div>"
      ],
      "text/plain": [
       "            Name:  Gender:    City:                  State  \\\n",
       "0   Magret Röttger   female   Erbach                Hessen   \n",
       "1  Melodie Ginnish   female  Selkirk  Prince Edward Island   \n",
       "2   Jessi Lievaart   female    Gendt               Limburg   \n",
       "\n",
       "                         Email                       DOB  \\\n",
       "0   magret.rottger@example.com  1948-02-02T05:14:29.214Z   \n",
       "1  melodie.ginnish@example.com  1991-08-13T09:31:50.670Z   \n",
       "2   jessi.lievaart@example.com  1980-11-03T06:16:03.565Z   \n",
       "\n",
       "                                            Picture  \n",
       "0  https://randomuser.me/api/portraits/women/84.jpg  \n",
       "1  https://randomuser.me/api/portraits/women/14.jpg  \n",
       "2  https://randomuser.me/api/portraits/women/55.jpg  "
      ]
     },
     "execution_count": 19,
     "metadata": {},
     "output_type": "execute_result"
    }
   ],
   "source": [
    "poblation1 = get_users(3)\n",
    "poblation1"
   ]
  },
  {
   "cell_type": "markdown",
   "metadata": {},
   "source": [
    "---"
   ]
  },
  {
   "cell_type": "markdown",
   "metadata": {},
   "source": []
  },
  {
   "cell_type": "code",
   "execution_count": null,
   "metadata": {},
   "outputs": [],
   "source": []
  }
 ],
 "metadata": {
  "kernelspec": {
   "display_name": "base",
   "language": "python",
   "name": "python3"
  },
  "language_info": {
   "codemirror_mode": {
    "name": "ipython",
    "version": 3
   },
   "file_extension": ".py",
   "mimetype": "text/x-python",
   "name": "python",
   "nbconvert_exporter": "python",
   "pygments_lexer": "ipython3",
   "version": "3.11.5"
  }
 },
 "nbformat": 4,
 "nbformat_minor": 2
}
